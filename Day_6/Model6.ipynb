{
 "cells": [
  {
   "cell_type": "code",
   "execution_count": 1,
   "id": "541b5db8",
   "metadata": {},
   "outputs": [
    {
     "name": "stdout",
     "output_type": "stream",
     "text": [
      "Model Accuracy on Test Data: 0.00\n",
      "\n",
      "Predictions on New Tasks:\n",
      "Task: schedule tasks on calendar → Predicted Category: organization\n",
      "Task: practice presentation with AI coach → Predicted Category: learning\n",
      "Task: track progress visually → Predicted Category: learning\n"
     ]
    }
   ],
   "source": [
    "# Day 6 – Simple AI/ML Task\n",
    "# Topic: Productivity Tools Classifier (Demo)\n",
    "# Light & beginner-friendly – No heavy TensorFlow, no big datasets\n",
    "\n",
    "from sklearn.feature_extraction.text import CountVectorizer\n",
    "from sklearn.naive_bayes import MultinomialNB\n",
    "from sklearn.model_selection import train_test_split\n",
    "from sklearn.metrics import accuracy_score\n",
    "\n",
    "# -----------------------------\n",
    "# Step 1: Create a tiny dataset\n",
    "# -----------------------------\n",
    "tools = [\n",
    "    \"organize tasks with Notion\",\n",
    "    \"time blocking using Google Calendar\",\n",
    "    \"visual kanban board with Trello\",\n",
    "    \"summarize youtube videos with Monica AI\",\n",
    "    \"speech practice using Yoodli AI\"\n",
    "]\n",
    "\n",
    "labels = [\n",
    "    \"organization\",    # Notion\n",
    "    \"time_management\", # Google Calendar\n",
    "    \"project_tracking\",# Trello\n",
    "    \"learning\",        # Monica AI\n",
    "    \"communication\"    # Yoodli\n",
    "]\n",
    "\n",
    "# -----------------------------\n",
    "# Step 2: Convert text → numbers\n",
    "# -----------------------------\n",
    "vectorizer = CountVectorizer()\n",
    "X = vectorizer.fit_transform(tools)\n",
    "\n",
    "# -----------------------------\n",
    "# Step 3: Train-Test Split\n",
    "# -----------------------------\n",
    "X_train, X_test, y_train, y_test = train_test_split(X, labels, test_size=0.4, random_state=42)\n",
    "\n",
    "# -----------------------------\n",
    "# Step 4: Train the Model\n",
    "# -----------------------------\n",
    "model = MultinomialNB()\n",
    "model.fit(X_train, y_train)\n",
    "\n",
    "# -----------------------------\n",
    "# Step 5: Evaluate the Model\n",
    "# -----------------------------\n",
    "y_pred = model.predict(X_test)\n",
    "accuracy = accuracy_score(y_test, y_pred)\n",
    "print(f\"Model Accuracy on Test Data: {accuracy:.2f}\")\n",
    "\n",
    "# -----------------------------\n",
    "# Step 6: Try New Predictions\n",
    "# -----------------------------\n",
    "new_tasks = [\n",
    "    \"schedule tasks on calendar\",\n",
    "    \"practice presentation with AI coach\",\n",
    "    \"track progress visually\"\n",
    "]\n",
    "\n",
    "X_new = vectorizer.transform(new_tasks)\n",
    "new_predictions = model.predict(X_new)\n",
    "\n",
    "# Show results\n",
    "print(\"\\nPredictions on New Tasks:\")\n",
    "for text, pred in zip(new_tasks, new_predictions):\n",
    "    print(f\"Task: {text} → Predicted Category: {pred}\")\n"
   ]
  }
 ],
 "metadata": {
  "kernelspec": {
   "display_name": "Python 3",
   "language": "python",
   "name": "python3"
  },
  "language_info": {
   "codemirror_mode": {
    "name": "ipython",
    "version": 3
   },
   "file_extension": ".py",
   "mimetype": "text/x-python",
   "name": "python",
   "nbconvert_exporter": "python",
   "pygments_lexer": "ipython3",
   "version": "3.10.0"
  }
 },
 "nbformat": 4,
 "nbformat_minor": 5
}
