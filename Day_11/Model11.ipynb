{
 "cells": [
  {
   "cell_type": "code",
   "execution_count": 10,
   "id": "7388dac5",
   "metadata": {},
   "outputs": [
    {
     "name": "stderr",
     "output_type": "stream",
     "text": [
      "2025-10-02 21:12:57.954 Thread 'MainThread': missing ScriptRunContext! This warning can be ignored when running in bare mode.\n",
      "2025-10-02 21:12:57.954 Thread 'MainThread': missing ScriptRunContext! This warning can be ignored when running in bare mode.\n",
      "2025-10-02 21:12:57.954 Thread 'MainThread': missing ScriptRunContext! This warning can be ignored when running in bare mode.\n",
      "2025-10-02 21:12:57.954 Thread 'MainThread': missing ScriptRunContext! This warning can be ignored when running in bare mode.\n",
      "2025-10-02 21:12:57.954 Thread 'MainThread': missing ScriptRunContext! This warning can be ignored when running in bare mode.\n",
      "2025-10-02 21:12:57.954 Thread 'MainThread': missing ScriptRunContext! This warning can be ignored when running in bare mode.\n",
      "2025-10-02 21:12:57.954 Thread 'MainThread': missing ScriptRunContext! This warning can be ignored when running in bare mode.\n",
      "2025-10-02 21:12:57.954 Thread 'MainThread': missing ScriptRunContext! This warning can be ignored when running in bare mode.\n",
      "2025-10-02 21:12:57.954 Thread 'MainThread': missing ScriptRunContext! This warning can be ignored when running in bare mode.\n",
      "2025-10-02 21:12:57.954 Thread 'MainThread': missing ScriptRunContext! This warning can be ignored when running in bare mode.\n"
     ]
    },
    {
     "name": "stdout",
     "output_type": "stream",
     "text": [
      "PRO TIP  Replace 'model=yolov5s.pt' with new 'model=yolov5su.pt'.\n",
      "YOLOv5 'u' models are trained with https://github.com/ultralytics/ultralytics and feature improved performance vs standard YOLOv5 models trained with https://github.com/ultralytics/yolov5.\n",
      "\n"
     ]
    },
    {
     "name": "stderr",
     "output_type": "stream",
     "text": [
      "2025-10-02 21:12:58.472 Thread 'Thread-8': missing ScriptRunContext! This warning can be ignored when running in bare mode.\n",
      "2025-10-02 21:12:58.477 Thread 'Thread-8': missing ScriptRunContext! This warning can be ignored when running in bare mode.\n",
      "2025-10-02 21:12:58.478 Thread 'Thread-8': missing ScriptRunContext! This warning can be ignored when running in bare mode.\n"
     ]
    },
    {
     "name": "stdout",
     "output_type": "stream",
     "text": [
      "\u001b[KDownloading https://github.com/ultralytics/assets/releases/download/v8.3.0/yolov5su.pt to 'yolov5su.pt': 100% ━━━━━━━━━━━━ 17.7MB 423.0KB/s 42.9s42.8s<0.1ss\n"
     ]
    },
    {
     "name": "stderr",
     "output_type": "stream",
     "text": [
      "2025-10-02 21:13:43.135 Thread 'MainThread': missing ScriptRunContext! This warning can be ignored when running in bare mode.\n",
      "2025-10-02 21:13:43.135 Thread 'MainThread': missing ScriptRunContext! This warning can be ignored when running in bare mode.\n",
      "2025-10-02 21:13:43.135 Thread 'MainThread': missing ScriptRunContext! This warning can be ignored when running in bare mode.\n",
      "2025-10-02 21:13:43.135 Thread 'MainThread': missing ScriptRunContext! This warning can be ignored when running in bare mode.\n",
      "2025-10-02 21:13:43.135 Thread 'MainThread': missing ScriptRunContext! This warning can be ignored when running in bare mode.\n",
      "2025-10-02 21:13:43.135 Thread 'MainThread': missing ScriptRunContext! This warning can be ignored when running in bare mode.\n",
      "2025-10-02 21:13:43.140 Thread 'MainThread': missing ScriptRunContext! This warning can be ignored when running in bare mode.\n",
      "2025-10-02 21:13:43.140 Thread 'MainThread': missing ScriptRunContext! This warning can be ignored when running in bare mode.\n",
      "2025-10-02 21:13:43.140 Thread 'MainThread': missing ScriptRunContext! This warning can be ignored when running in bare mode.\n",
      "2025-10-02 21:13:43.140 Thread 'MainThread': missing ScriptRunContext! This warning can be ignored when running in bare mode.\n",
      "2025-10-02 21:13:43.143 Thread 'MainThread': missing ScriptRunContext! This warning can be ignored when running in bare mode.\n",
      "2025-10-02 21:13:43.143 Thread 'MainThread': missing ScriptRunContext! This warning can be ignored when running in bare mode.\n",
      "2025-10-02 21:13:43.144 Thread 'MainThread': missing ScriptRunContext! This warning can be ignored when running in bare mode.\n"
     ]
    }
   ],
   "source": [
    "import streamlit as st\n",
    "import cv2\n",
    "from ultralytics import YOLO\n",
    "import tempfile\n",
    "import numpy as np\n",
    "\n",
    "st.title(\"📦 Real-Time Object Detection\")\n",
    "st.write(\"YOLOv5s + OpenCV + Streamlit 🚀\")\n",
    "\n",
    "# Load YOLOv5s model (pretrained)\n",
    "@st.cache_resource\n",
    "def load_model():\n",
    "    model = YOLO(\"yolov5s.pt\")  # ultralytics downloads automatically\n",
    "    return model\n",
    "\n",
    "model = load_model()\n",
    "\n",
    "# Start Webcam\n",
    "run = st.checkbox('Start Webcam')\n",
    "FRAME_WINDOW = st.image([])\n",
    "\n",
    "if run:\n",
    "    cap = cv2.VideoCapture(0)  # webcam\n",
    "\n",
    "    while run:\n",
    "        ret, frame = cap.read()\n",
    "        if not ret:\n",
    "            st.write(\"Failed to grab frame\")\n",
    "            break\n",
    "\n",
    "        # YOLOv5 inference\n",
    "        results = model(frame)\n",
    "\n",
    "        # Draw boxes on the frame\n",
    "        annotated_frame = results[0].plot()  # returns numpy array with boxes\n",
    "\n",
    "        # Convert BGR to RGB\n",
    "        annotated_frame = cv2.cvtColor(annotated_frame, cv2.COLOR_BGR2RGB)\n",
    "\n",
    "        # Display\n",
    "        FRAME_WINDOW.image(annotated_frame)\n",
    "\n",
    "        # Stop if checkbox is unchecked\n",
    "        run = st.checkbox('Start Webcam', value=True)\n",
    "\n",
    "    cap.release()\n"
   ]
  }
 ],
 "metadata": {
  "kernelspec": {
   "display_name": "Python 3",
   "language": "python",
   "name": "python3"
  },
  "language_info": {
   "codemirror_mode": {
    "name": "ipython",
    "version": 3
   },
   "file_extension": ".py",
   "mimetype": "text/x-python",
   "name": "python",
   "nbconvert_exporter": "python",
   "pygments_lexer": "ipython3",
   "version": "3.10.0"
  }
 },
 "nbformat": 4,
 "nbformat_minor": 5
}
